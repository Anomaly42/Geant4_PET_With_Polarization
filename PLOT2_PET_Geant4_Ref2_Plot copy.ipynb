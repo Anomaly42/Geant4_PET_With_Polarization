{
 "cells": [
  {
   "cell_type": "code",
   "execution_count": 3,
   "metadata": {},
   "outputs": [],
   "source": [
    "# !pip install uproot\n",
    "import numpy as np\n",
    "import pandas as pd\n",
    "import matplotlib.pyplot as plt\n",
    "\n",
    "import uproot"
   ]
  },
  {
   "cell_type": "code",
   "execution_count": 4,
   "metadata": {},
   "outputs": [],
   "source": [
    "file_path = \"../../sim_first/build/plot_1e8.root\"\n",
    "file = uproot.open(file_path)\n",
    "\n",
    "file['Photons'].keys()\n",
    "\n",
    "time_ns = file['Photons']['fTime'].array(library='np')\n",
    "energy_keV = file['Photons']['fEnergy'].array(library='np')/1000.\n",
    "x_mm = file['Photons']['fX'].array(library='np')\n",
    "y_mm = file['Photons']['fY'].array(library='np')\n",
    "z_mm = file['Photons']['fZ'].array(library='np')\n",
    "\n",
    "polX = file['Photons']['fPolX'].array(library='np')\n",
    "polY = file['Photons']['fPolY'].array(library='np')\n",
    "polZ= file['Photons']['fPolZ'].array(library='np')\n",
    "\n",
    "eventID = file['Photons']['fEvent'].array(library='np')"
   ]
  },
  {
   "cell_type": "markdown",
   "metadata": {},
   "source": [
    "We will do the same things we did in the more elaborate notebook, but with numpy only and being memory and time efficient."
   ]
  },
  {
   "cell_type": "code",
   "execution_count": 5,
   "metadata": {},
   "outputs": [],
   "source": [
    "energy_keV_blurred = np.random.normal(energy_keV, 0.1*energy_keV)"
   ]
  },
  {
   "cell_type": "code",
   "execution_count": 6,
   "metadata": {},
   "outputs": [],
   "source": [
    "#sort the time_ns array and then rearrange all the other arrays in the same way\n",
    "\n",
    "time_ns_sorted_index = np.argsort(time_ns)\n",
    "time_ns = time_ns[time_ns_sorted_index]\n",
    "energy_keV = energy_keV[time_ns_sorted_index]\n",
    "energy_keV_blurred = energy_keV_blurred[time_ns_sorted_index]\n",
    "x_mm = x_mm[time_ns_sorted_index]\n",
    "y_mm = y_mm[time_ns_sorted_index]\n",
    "z_mm = z_mm[time_ns_sorted_index]\n",
    "polX = polX[time_ns_sorted_index]\n",
    "polY = polY[time_ns_sorted_index]\n",
    "polZ = polZ[time_ns_sorted_index]\n",
    "eventID = eventID[time_ns_sorted_index]"
   ]
  },
  {
   "cell_type": "code",
   "execution_count": 7,
   "metadata": {},
   "outputs": [],
   "source": [
    "def angle_between_vectors(v1, v2):\n",
    "    #v1 and v2 are arrays of shape (3,)\n",
    "    #returns a float\n",
    "\n",
    "    return np.arccos(np.sum(v1*v2)/(np.linalg.norm(v1)*np.linalg.norm(v2)))\n",
    "\n",
    "\n",
    "def vectorized_angle_between_vectors(v1_array, v2_array):\n",
    "    #v1 and v2 are arrays of shape (n, 3)\n",
    "    #returns an array of shape (n, 1)\n",
    "\n",
    "    return np.arccos(np.sum(v1_array*v2_array, axis=1)/(np.linalg.norm(v1_array, axis=1)*np.linalg.norm(v2_array, axis=1)))\n",
    "\n",
    "def vectorized_normaldotprod_between_vectors(v1_array, v2_array):\n",
    "    #v1 and v2 are arrays of shape (n, 3)\n",
    "    #returns an array of shape (n, 1)\n",
    "\n",
    "    return np.sum(v1_array*v2_array, axis=1)/(np.linalg.norm(v1_array, axis=1)*np.linalg.norm(v2_array, axis=1))\n"
   ]
  },
  {
   "cell_type": "code",
   "execution_count": 8,
   "metadata": {},
   "outputs": [],
   "source": [
    "# def time_window_filter(time_ns : np.array, window_ns):\n",
    "#     coincidences = []\n",
    "#     for i in range(len(time_ns)):\n",
    "#         temp_coincidences = []\n",
    "#         j = i + 1\n",
    "#         while j < len(time_ns) and abs(time_ns[i] - time_ns[j]) < window_ns:\n",
    "#             temp_coincidences.append((i, j))\n",
    "#             j += 1\n",
    "#         if len(temp_coincidences) == 1:\n",
    "#             coincidences += temp_coincidences\n",
    "#     return coincidences"
   ]
  },
  {
   "cell_type": "code",
   "execution_count": 9,
   "metadata": {},
   "outputs": [],
   "source": [
    "# def time_window_filter(time_ns : np.array, window_ns):\n",
    "#     coincidences = []\n",
    "#     event_count = len(time_ns)\n",
    "#     i = 0\n",
    "#     while i < event_count:\n",
    "#         temp_coincidences = []\n",
    "#         j = i + 1\n",
    "#         while j < event_count and abs(time_ns[j] - time_ns[i]) < window_ns:\n",
    "#             temp_coincidences.append((i, j))\n",
    "#             j += 1\n",
    "#         if len(temp_coincidences) == 1:\n",
    "#             coincidences.append(temp_coincidences[0])\n",
    "#         i = j\n",
    "        \n",
    "#     return coincidences"
   ]
  },
  {
   "cell_type": "code",
   "execution_count": 10,
   "metadata": {},
   "outputs": [],
   "source": [
    "# def time_window_filter(time_ns : np.array, window_ns):\n",
    "#     coincidences = []\n",
    "#     for i in range(len(time_ns)):\n",
    "#         temp_coincidences = []\n",
    "#         j = i + 1\n",
    "#         while j < len(time_ns) and abs(time_ns[i] - time_ns[j]) < window_ns:\n",
    "#             temp_coincidences.append((i, j))\n",
    "#             j += 1\n",
    "#         if len(temp_coincidences) == 1:\n",
    "#             coincidences.append(temp_coincidences[0])\n",
    "#     return coincidences"
   ]
  },
  {
   "cell_type": "code",
   "execution_count": 11,
   "metadata": {},
   "outputs": [],
   "source": [
    "def time_window_filter(time_ns : np.array, window_ns):\n",
    "    coincidences = []\n",
    "    for i in range(len(time_ns)):\n",
    "        temp_coincidences = []\n",
    "        j = i + 1\n",
    "        while j < len(time_ns) and abs(time_ns[i] - time_ns[j]) < window_ns:\n",
    "            temp_coincidences.append((i, j))\n",
    "            j += 1\n",
    "        coincidences += temp_coincidences\n",
    "    return coincidences"
   ]
  },
  {
   "cell_type": "code",
   "execution_count": 12,
   "metadata": {},
   "outputs": [],
   "source": [
    "def energy_filter(coincidences, energy_keV_blurred, energy_keV_min, energy_keV_max):\n",
    "    #so the coincidence array has shape (n, 2)\n",
    "    #we want to filter out the rows where the energy of both events is not in the specified range\n",
    "\n",
    "    #we will do this by first creating a boolean array of shape (n, 2) where\n",
    "    # the value is True if the energy is in the specified range\n",
    "    #and then we will check if both values in the row are True\n",
    "    #this will give us a boolean array of shape (n, 1)\n",
    "    #we will then use this array to index the coincidence array and get the filtered coincidences\n",
    "\n",
    "    #create the boolean array\n",
    "    bool_array = np.array([(energy_keV_min < energy_keV_blurred[coincidences[:, 0]]) \\\n",
    "         & (energy_keV_blurred[coincidences[:, 0]] < energy_keV_max), \\\n",
    "            (energy_keV_min < energy_keV_blurred[coincidences[:, 1]]) \\\n",
    "         & (energy_keV_blurred[coincidences[:, 1]] < energy_keV_max)])\n",
    "    bool_array = np.transpose(bool_array)\n",
    "\n",
    "    #check if both values in the row are True\n",
    "    bool_array = np.all(bool_array, axis=1)\n",
    "\n",
    "    #index the coincidence array\n",
    "    filtered_coincidences = coincidences[bool_array]\n",
    "\n",
    "    return filtered_coincidences"
   ]
  },
  {
   "cell_type": "code",
   "execution_count": 13,
   "metadata": {},
   "outputs": [],
   "source": [
    "time_window_coincidences = time_window_filter(time_ns, 4)"
   ]
  },
  {
   "cell_type": "code",
   "execution_count": 14,
   "metadata": {},
   "outputs": [],
   "source": [
    "time_window_coincidences = np.array(time_window_coincidences)\n"
   ]
  },
  {
   "cell_type": "code",
   "execution_count": 15,
   "metadata": {},
   "outputs": [],
   "source": [
    "energy_coincidences = energy_filter(time_window_coincidences, energy_keV_blurred, 350.0, 650.0)"
   ]
  },
  {
   "cell_type": "code",
   "execution_count": 16,
   "metadata": {},
   "outputs": [
    {
     "data": {
      "text/plain": [
       "(9865510, 11758854)"
      ]
     },
     "execution_count": 16,
     "metadata": {},
     "output_type": "execute_result"
    }
   ],
   "source": [
    "len(energy_coincidences), len(time_window_coincidences) #energy coincidences may or may not be true coincidences!"
   ]
  },
  {
   "cell_type": "code",
   "execution_count": 17,
   "metadata": {},
   "outputs": [],
   "source": [
    "def count_true_in_filtered_coincidences(eventID, coincidences):\n",
    "    coincidences = np.array(coincidences)\n",
    "    cond1 = (eventID[coincidences[:, 0]] == eventID[coincidences[:, 1]])\n",
    "    #condition 2 is that te events should be roughly diametrically opposite\n",
    "    #we will use the dot product of the polarisation vectors to check this\n",
    "    #the dot product of two vectors is 1 if they are parallel, -1 if they are anti-parallel and 0 if they are perpendicular\n",
    "    #so we will check if the dot product is less than -0.9\n",
    "    v1 = np.array([x_mm[coincidences[:, 0]], y_mm[coincidences[:, 0]], z_mm[coincidences[:, 0]]]).T\n",
    "    v2 = np.array([x_mm[coincidences[:, 1]], y_mm[coincidences[:, 1]], z_mm[coincidences[:, 1]]]).T\n",
    "    cond2 = (vectorized_normaldotprod_between_vectors(v1, v2) < -0.9)\n",
    "    return np.sum(cond1 & cond2)"
   ]
  },
  {
   "cell_type": "code",
   "execution_count": 18,
   "metadata": {},
   "outputs": [],
   "source": [
    "true_in_energy_filtered_count = count_true_in_filtered_coincidences(eventID, energy_coincidences)\n",
    "total_in_energy_filtered_count = len(energy_coincidences)"
   ]
  },
  {
   "cell_type": "code",
   "execution_count": 19,
   "metadata": {},
   "outputs": [
    {
     "data": {
      "text/plain": [
       "(8389557, 9865510)"
      ]
     },
     "execution_count": 19,
     "metadata": {},
     "output_type": "execute_result"
    }
   ],
   "source": [
    "true_in_energy_filtered_count, total_in_energy_filtered_count"
   ]
  },
  {
   "cell_type": "code",
   "execution_count": 20,
   "metadata": {},
   "outputs": [
    {
     "name": "stderr",
     "output_type": "stream",
     "text": [
      "/var/folders/t0/kz8yxky97yg56bbdw_h8qs100000gn/T/ipykernel_931/3578568498.py:12: RuntimeWarning: invalid value encountered in divide\n",
      "  return np.arccos(np.sum(v1_array*v2_array, axis=1)/(np.linalg.norm(v1_array, axis=1)*np.linalg.norm(v2_array, axis=1)))\n"
     ]
    }
   ],
   "source": [
    "polX_1 = polX[time_window_coincidences[:, 0]]\n",
    "polY_1 = polY[time_window_coincidences[:, 0]]\n",
    "polZ_1 = polZ[time_window_coincidences[:, 0]]\n",
    "\n",
    "polX_2 = polX[time_window_coincidences[:, 1]]\n",
    "polY_2 = polY[time_window_coincidences[:, 1]]\n",
    "polZ_2 = polZ[time_window_coincidences[:, 1]]\n",
    "\n",
    "v1 = np.array([polX_1, polY_1, polZ_1]).T\n",
    "v2 = np.array([polX_2, polY_2, polZ_2]).T\n",
    "\n",
    "pol_angle_diff = vectorized_angle_between_vectors(v1, v2)"
   ]
  },
  {
   "cell_type": "code",
   "execution_count": 21,
   "metadata": {},
   "outputs": [
    {
     "data": {
      "image/png": "[encoded data removed]",
      "text/plain": [
       "<Figure size 640x480 with 1 Axes>"
      ]
     },
     "metadata": {},
     "output_type": "display_data"
    }
   ],
   "source": [
    "plt.hist(pol_angle_diff, bins=100)\n",
    "plt.show()"
   ]
  },
  {
   "cell_type": "code",
   "execution_count": 22,
   "metadata": {},
   "outputs": [],
   "source": [
    "pol_angle_diff_blurred = np.random.normal(pol_angle_diff, 0.1*np.abs(pol_angle_diff))"
   ]
  },
  {
   "cell_type": "code",
   "execution_count": 23,
   "metadata": {},
   "outputs": [
    {
     "data": {
      "text/plain": [
       "(2064174, 11758854)"
      ]
     },
     "execution_count": 23,
     "metadata": {},
     "output_type": "execute_result"
    }
   ],
   "source": [
    "#get number of nan values in pol_angle_diff_blurred\n",
    "np.sum(np.isnan(pol_angle_diff_blurred)), len(pol_angle_diff_blurred)"
   ]
  },
  {
   "cell_type": "code",
   "execution_count": 24,
   "metadata": {},
   "outputs": [
    {
     "data": {
      "text/plain": [
       "(11758854, 11758854)"
      ]
     },
     "execution_count": 24,
     "metadata": {},
     "output_type": "execute_result"
    }
   ],
   "source": [
    "len(time_window_coincidences), len(pol_angle_diff_blurred)"
   ]
  },
  {
   "cell_type": "code",
   "execution_count": 25,
   "metadata": {},
   "outputs": [],
   "source": [
    "def polarization_filter(coincidences, pol_angle_diff_blurred, angle_diff_min, angle_diff_max):\n",
    "    bool_array = (pol_angle_diff_blurred > angle_diff_min) & (pol_angle_diff_blurred < angle_diff_max)\n",
    "    return coincidences[bool_array]"
   ]
  },
  {
   "cell_type": "code",
   "execution_count": 26,
   "metadata": {},
   "outputs": [],
   "source": [
    "polarization_coincidences = polarization_filter(time_window_coincidences, pol_angle_diff_blurred, 1.075, 2.000)"
   ]
  },
  {
   "cell_type": "code",
   "execution_count": 27,
   "metadata": {},
   "outputs": [],
   "source": [
    "true_in_polarization_filtered_count = count_true_in_filtered_coincidences(eventID, polarization_coincidences)\n",
    "total_in_polarization_filtered_count = len(polarization_coincidences)"
   ]
  },
  {
   "cell_type": "code",
   "execution_count": 28,
   "metadata": {},
   "outputs": [
    {
     "data": {
      "text/plain": [
       "(8208698, 8792509)"
      ]
     },
     "execution_count": 28,
     "metadata": {},
     "output_type": "execute_result"
    }
   ],
   "source": [
    "true_in_polarization_filtered_count, total_in_polarization_filtered_count"
   ]
  },
  {
   "cell_type": "code",
   "execution_count": 29,
   "metadata": {},
   "outputs": [
    {
     "data": {
      "text/plain": [
       "(20215251, 11758854, 9865510, 8792509)"
      ]
     },
     "execution_count": 29,
     "metadata": {},
     "output_type": "execute_result"
    }
   ],
   "source": [
    "len(x_mm), len(time_window_coincidences), len(energy_coincidences), len(polarization_coincidences)"
   ]
  },
  {
   "cell_type": "code",
   "execution_count": 30,
   "metadata": {},
   "outputs": [
    {
     "data": {
      "text/plain": [
       "(8389557, 9865510)"
      ]
     },
     "execution_count": 30,
     "metadata": {},
     "output_type": "execute_result"
    }
   ],
   "source": [
    "true_in_energy_filtered_count, total_in_energy_filtered_count"
   ]
  },
  {
   "cell_type": "code",
   "execution_count": 31,
   "metadata": {},
   "outputs": [
    {
     "data": {
      "text/plain": [
       "(8208698, 8792509)"
      ]
     },
     "execution_count": 31,
     "metadata": {},
     "output_type": "execute_result"
    }
   ],
   "source": [
    "true_in_polarization_filtered_count, total_in_polarization_filtered_count"
   ]
  },
  {
   "cell_type": "code",
   "execution_count": 32,
   "metadata": {},
   "outputs": [
    {
     "data": {
      "text/plain": [
       "9172416"
      ]
     },
     "execution_count": 32,
     "metadata": {},
     "output_type": "execute_result"
    }
   ],
   "source": [
    "count_true_in_filtered_coincidences(eventID, time_window_coincidences)"
   ]
  },
  {
   "cell_type": "code",
   "execution_count": null,
   "metadata": {},
   "outputs": [],
   "source": []
  }
 ],
 "metadata": {
  "kernelspec": {
   "display_name": "Python 3",
   "language": "python",
   "name": "python3"
  },
  "language_info": {
   "codemirror_mode": {
    "name": "ipython",
    "version": 3
   },
   "file_extension": ".py",
   "mimetype": "text/x-python",
   "name": "python",
   "nbconvert_exporter": "python",
   "pygments_lexer": "ipython3",
   "version": "3.9.6"
  },
  "orig_nbformat": 4
 },
 "nbformat": 4,
 "nbformat_minor": 2
}
